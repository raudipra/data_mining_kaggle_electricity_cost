{
 "cells": [
  {
   "cell_type": "markdown",
   "metadata": {},
   "source": [
    "Import data to dataset and result format for sklearn"
   ]
  },
  {
   "cell_type": "code",
   "execution_count": 8,
   "metadata": {},
   "outputs": [],
   "source": [
    "import pandas as pd\n",
    "df = pd.read_csv('../data/train.csv')\n",
    "dataset = []\n",
    "result = []\n",
    "for index, row in df.iterrows():\n",
    "    data = []\n",
    "    counter = 0\n",
    "    for column in row:\n",
    "        counter += 1\n",
    "        if counter != 1:\n",
    "            if counter == 2:\n",
    "                result.append(column)\n",
    "            else:\n",
    "                \n",
    "                data.append(column)\n",
    "    dataset.append(data)"
   ]
  },
  {
   "cell_type": "markdown",
   "metadata": {},
   "source": [
    "Normalization each column"
   ]
  },
  {
   "cell_type": "code",
   "execution_count": 9,
   "metadata": {
    "collapsed": true
   },
   "outputs": [],
   "source": [
    "max_value_dataset = []\n",
    "min_value_dataset = []\n",
    "first_iter = True\n",
    "for row in dataset:\n",
    "    counter = 0\n",
    "    for value in row:\n",
    "        if first_iter:\n",
    "            max_value_dataset.append(value)\n",
    "            min_value_dataset.append(value)\n",
    "        else:\n",
    "            if max_value_dataset[counter]<value:\n",
    "                max_value_dataset[counter] = value\n",
    "            if min_value_dataset[counter]>value:\n",
    "                min_value_dataset[counter] = value\n",
    "        counter += 1\n",
    "    first_iter = False"
   ]
  },
  {
   "cell_type": "code",
   "execution_count": 10,
   "metadata": {},
   "outputs": [
    {
     "name": "stdout",
     "output_type": "stream",
     "text": [
      "19.89\n",
      "4.81668946648\n"
     ]
    }
   ],
   "source": [
    "print dataset[0][1]\n",
    "for row in dataset:\n",
    "    counter = 0\n",
    "    for value in row:\n",
    "        row[counter] = float(value-min_value_dataset[counter])/float(max_value_dataset[counter]-min_value_dataset[counter])*9+1  \n",
    "        counter += 1\n",
    "print dataset[0][1]"
   ]
  },
  {
   "cell_type": "markdown",
   "metadata": {},
   "source": [
    "Normalization consider same type"
   ]
  },
  {
   "cell_type": "code",
   "execution_count": 52,
   "metadata": {},
   "outputs": [],
   "source": [
    "#                    wh         celcius                     kelembapan          mmgh m/s   km  A/c  rnd1 rnd2\n",
    "same_type_columns = [[0],[1,3,5,7,9,11,13,15,17,19],[2,4,6,8,10,12,14,16,18,21],[20],[22],[23],[24],[25],[26]]\n",
    "max_value_dataset = [0,0,0,0,0,0,0,0,0]\n",
    "min_value_dataset = [0,0,0,0,0,0,0,0,0]\n",
    "first_iter = True\n",
    "for row in dataset:\n",
    "    counter = 0\n",
    "    for value in row:\n",
    "        if first_iter:\n",
    "            counter_temp = 0\n",
    "            for i in composite:\n",
    "                if counter in i:\n",
    "                    max_value_dataset[counter_temp] = value\n",
    "                    min_value_dataset[counter_temp] = value \n",
    "                    break\n",
    "                counter_temp += 1\n",
    "        else:\n",
    "            counter_temp = 0\n",
    "            for i in composite:\n",
    "                if counter in i:\n",
    "                    if max_value_dataset[counter_temp]<value:\n",
    "                        max_value_dataset[counter_temp] = value\n",
    "                    if min_value_dataset[counter_temp]>value:\n",
    "                        min_value_dataset[counter_temp] = value\n",
    "                    break\n",
    "                counter_temp += 1\n",
    "        counter += 1\n",
    "    first_iter = False"
   ]
  },
  {
   "cell_type": "code",
   "execution_count": 53,
   "metadata": {},
   "outputs": [
    {
     "name": "stdout",
     "output_type": "stream",
     "text": [
      "19.89\n",
      "8.12940637876\n"
     ]
    }
   ],
   "source": [
    "print dataset[0][1]\n",
    "for row in dataset:\n",
    "    counter = 0\n",
    "    for value in row:\n",
    "        counter_temp = 0\n",
    "        for i in composite:\n",
    "            if counter in i:\n",
    "                row[counter] = float(value-min_value_dataset[counter_temp])/float(max_value_dataset[counter_temp]-min_value_dataset[counter_temp])*9+1  \n",
    "            counter_temp += 1\n",
    "        counter += 1\n",
    "print dataset[0][1]"
   ]
  },
  {
   "cell_type": "markdown",
   "metadata": {},
   "source": [
    "Export data to CSV"
   ]
  },
  {
   "cell_type": "code",
   "execution_count": 11,
   "metadata": {},
   "outputs": [],
   "source": [
    "headers = ['B','C','D','E','F','G','H','I','J','K','L','M','N','O','P','Q','R','S','T','U','V','W','X','Y','Z','AA','AB','AC']\n",
    "counter = 0\n",
    "for value in result:\n",
    "    dataset[counter] = [value] + dataset[counter]\n",
    "    counter += 1\n",
    "df = pd.DataFrame(dataset,columns=headers)\n",
    "df.to_csv('../data/normalized_train.csv')"
   ]
  },
  {
   "cell_type": "markdown",
   "metadata": {},
   "source": [
    "Export data to CSV Per Type"
   ]
  },
  {
   "cell_type": "code",
   "execution_count": null,
   "metadata": {
    "collapsed": true
   },
   "outputs": [],
   "source": [
    "headers = ['B','C','D','E','F','G','H','I','J','K','L','M','N','O','P','Q','R','S','T','U','V','W','X','Y','Z','AA','AB','AC']\n",
    "counter = 0\n",
    "for value in result:\n",
    "    dataset[counter] = [value] + dataset[counter]\n",
    "    counter += 1\n",
    "df = pd.DataFrame(dataset,columns=headers)\n",
    "df.to_csv('../data/normalized_per_type_train.csv')"
   ]
  },
  {
   "cell_type": "markdown",
   "metadata": {},
   "source": [
    "Feature Selection using sklearn score"
   ]
  },
  {
   "cell_type": "code",
   "execution_count": 23,
   "metadata": {},
   "outputs": [],
   "source": [
    "from sklearn.feature_selection import SelectKBest\n",
    "from sklearn.feature_selection import chi2 # all positive\n",
    "from sklearn.feature_selection import f_classif # can negative\n",
    "from sklearn.feature_selection import mutual_info_classif # can negative\n",
    "\n",
    "selector = SelectKBest(f_classif, k='all').fit(dataset,result)\n",
    "x_new = selector.transform(dataset) # not needed to get the score\n",
    "scores = selector.scores_\n",
    "print scores"
   ]
  },
  {
   "cell_type": "markdown",
   "metadata": {},
   "source": [
    "SVM Implementation Regression"
   ]
  },
  {
   "cell_type": "code",
   "execution_count": 14,
   "metadata": {},
   "outputs": [],
   "source": [
    "from sklearn import svm\n",
    "clf = svm.SVR()\n",
    "clf.fit(dataset, result) \n",
    "prediction = clf.predict(dataset)"
   ]
  },
  {
   "cell_type": "markdown",
   "metadata": {},
   "source": [
    "Evaluation MSE"
   ]
  },
  {
   "cell_type": "code",
   "execution_count": 15,
   "metadata": {},
   "outputs": [
    {
     "data": {
      "text/plain": [
       "12608.809438271872"
      ]
     },
     "execution_count": 15,
     "metadata": {},
     "output_type": "execute_result"
    }
   ],
   "source": [
    "from sklearn.metrics import mean_squared_error\n",
    "mean_squared_error(result, prediction)"
   ]
  },
  {
   "cell_type": "code",
   "execution_count": null,
   "metadata": {
    "collapsed": true
   },
   "outputs": [],
   "source": []
  }
 ],
 "metadata": {
  "kernelspec": {
   "display_name": "Python 2",
   "language": "python",
   "name": "python2"
  },
  "language_info": {
   "codemirror_mode": {
    "name": "ipython",
    "version": 2
   },
   "file_extension": ".py",
   "mimetype": "text/x-python",
   "name": "python",
   "nbconvert_exporter": "python",
   "pygments_lexer": "ipython2",
   "version": "2.7.13"
  }
 },
 "nbformat": 4,
 "nbformat_minor": 2
}
