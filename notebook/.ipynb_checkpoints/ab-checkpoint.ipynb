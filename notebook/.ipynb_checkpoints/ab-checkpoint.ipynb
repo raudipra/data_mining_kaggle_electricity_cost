{
 "cells": [
  {
   "cell_type": "code",
   "execution_count": 1,
   "metadata": {},
   "outputs": [],
   "source": [
    "import pandas as pd\n",
    "df = pd.read_csv('../data/train_ab.csv', delimiter=';')\n",
    "dataset = []\n",
    "result = []\n",
    "for index, row in df.iterrows():\n",
    "    data = []\n",
    "    counter = 0\n",
    "    for column in row:\n",
    "        counter += 1\n",
    "        if counter != 1:\n",
    "            if counter == 2:\n",
    "                result.append(column)\n",
    "            else:\n",
    "                if(isinstance(column, int)):\n",
    "                    data.append(float(column))\n",
    "                else:\n",
    "                    column = column.replace(',', '.')\n",
    "                    data.append(float(column))\n",
    "    dataset.append(data)"
   ]
  },
  {
   "cell_type": "code",
   "execution_count": 2,
   "metadata": {},
   "outputs": [],
   "source": [
    "max_value_dataset = []\n",
    "min_value_dataset = []\n",
    "first_iter = True\n",
    "for row in dataset:\n",
    "    counter = 0\n",
    "    for value in row:\n",
    "        if first_iter:\n",
    "            max_value_dataset.append(value)\n",
    "            min_value_dataset.append(value)\n",
    "        else:\n",
    "            if max_value_dataset[counter]<value:\n",
    "                max_value_dataset[counter] = value\n",
    "            if min_value_dataset[counter]>value:\n",
    "                min_value_dataset[counter] = value\n",
    "        counter += 1\n",
    "    first_iter = False"
   ]
  },
  {
   "cell_type": "code",
   "execution_count": 3,
   "metadata": {},
   "outputs": [
    {
     "name": "stdout",
     "output_type": "stream",
     "text": [
      "-13.29\n",
      "6.183310533515733\n"
     ]
    }
   ],
   "source": [
    "print(dataset[0][1])\n",
    "for row in dataset:\n",
    "    counter = 0\n",
    "    for value in row:\n",
    "        row[counter] = float(value-min_value_dataset[counter])/float(max_value_dataset[counter]-min_value_dataset[counter])*9+1  \n",
    "        counter += 1\n",
    "print(dataset[0][1])"
   ]
  },
  {
   "cell_type": "code",
   "execution_count": 4,
   "metadata": {},
   "outputs": [],
   "source": [
    "headers = ['B','C','D','E','F','G','H','I','J','K','L','M','N','O','P','Q','R','S','T','U','V','W','X','Y','Z','AA','AB','AC']\n",
    "counter = 0\n",
    "for value in result:\n",
    "    dataset[counter] = [value] + dataset[counter]\n",
    "    counter += 1"
   ]
  },
  {
   "cell_type": "code",
   "execution_count": 6,
   "metadata": {},
   "outputs": [],
   "source": [
    "df = pd.DataFrame(dataset,columns=headers)\n",
    "df.to_csv('../data/normalized_train_ab.csv')"
   ]
  },
  {
   "cell_type": "code",
   "execution_count": 7,
   "metadata": {},
   "outputs": [],
   "source": [
    "import pandas as pd\n",
    "df = pd.read_csv('../data/normalized_train_ab.csv', delimiter=',')\n",
    "dataset = []\n",
    "result = []\n",
    "for index, row in df.iterrows():\n",
    "    data = []\n",
    "    counter = 0\n",
    "    for column in row:\n",
    "        counter += 1\n",
    "        if counter != 1:\n",
    "            if counter == 2:\n",
    "                result.append(column)\n",
    "            else:\n",
    "                data.append(column)\n",
    "    dataset.append(data)"
   ]
  },
  {
   "cell_type": "code",
   "execution_count": 9,
   "metadata": {},
   "outputs": [
    {
     "name": "stdout",
     "output_type": "stream",
     "text": [
      "[24.26955591 20.64295508  4.62965971 20.32646118  3.26885314 16.29968439\n",
      "  4.92607155 17.45305607  2.47332374 15.69303417  2.03984215  9.87615338\n",
      " 11.75759651 13.48906803  4.893571   23.9585583  12.14655761 14.58107692\n",
      "  8.65523438  8.09759461  3.99503307 10.14766749  2.41666005  0.93960358\n",
      "  2.60330993  1.03189808  1.03189808]\n"
     ]
    }
   ],
   "source": [
    "from sklearn.feature_selection import SelectKBest\n",
    "from sklearn.feature_selection import chi2 # all positive\n",
    "from sklearn.feature_selection import f_classif # can negative\n",
    "from sklearn.feature_selection import mutual_info_classif # can negative\n",
    "\n",
    "selector = SelectKBest(f_classif, k='all').fit(dataset,result)\n",
    "x_new = selector.transform(dataset) # not needed to get the score\n",
    "scores = selector.scores_\n",
    "print(scores)"
   ]
  },
  {
   "cell_type": "code",
   "execution_count": 23,
   "metadata": {},
   "outputs": [],
   "source": [
    "# Create panda dataframe\n",
    "train_df = pd.DataFrame(dataset)"
   ]
  },
  {
   "cell_type": "code",
   "execution_count": 29,
   "metadata": {},
   "outputs": [
    {
     "data": {
      "text/plain": [
       "0     4.857143\n",
       "1     6.183311\n",
       "3     6.717647\n",
       "5     7.546316\n",
       "7     5.946882\n",
       "9     7.835758\n",
       "15    8.083958\n",
       "16    4.047293\n",
       "17    7.844693\n",
       "Name: 0, dtype: float64"
      ]
     },
     "execution_count": 29,
     "metadata": {},
     "output_type": "execute_result"
    }
   ],
   "source": [
    "train_df = train_df.drop(columns=[2, 4, 6, 8, 10, 11, 12, 13, 14, 18, 19, 20, 21, 22, 23, 24, 25, 26])\n",
    "train_df.iloc[0]"
   ]
  },
  {
   "cell_type": "code",
   "execution_count": 31,
   "metadata": {},
   "outputs": [
    {
     "data": {
      "text/plain": [
       "[4.857142857142857,\n",
       " 6.183310533515733,\n",
       " 6.71764705882353,\n",
       " 7.546315789473684,\n",
       " 5.946882217090068,\n",
       " 7.835757928392973,\n",
       " 8.083958021016059,\n",
       " 4.047292666209733,\n",
       " 7.844692737463687]"
      ]
     },
     "execution_count": 31,
     "metadata": {},
     "output_type": "execute_result"
    }
   ],
   "source": [
    "# Back to list\n",
    "dataset = train_df.values.tolist()"
   ]
  },
  {
   "cell_type": "code",
   "execution_count": 32,
   "metadata": {},
   "outputs": [],
   "source": [
    "from sklearn import svm\n",
    "clf = svm.SVR()\n",
    "clf.fit(dataset, result) \n",
    "prediction = clf.predict(dataset)\n"
   ]
  },
  {
   "cell_type": "code",
   "execution_count": 33,
   "metadata": {},
   "outputs": [
    {
     "data": {
      "text/plain": [
       "10883.172135492743"
      ]
     },
     "execution_count": 33,
     "metadata": {},
     "output_type": "execute_result"
    }
   ],
   "source": [
    "from sklearn.metrics import mean_squared_error\n",
    "mean_squared_error(result, prediction)"
   ]
  },
  {
   "cell_type": "code",
   "execution_count": null,
   "metadata": {},
   "outputs": [],
   "source": []
  }
 ],
 "metadata": {
  "kernelspec": {
   "display_name": "Python 3",
   "language": "python",
   "name": "python3"
  },
  "language_info": {
   "codemirror_mode": {
    "name": "ipython",
    "version": 3
   },
   "file_extension": ".py",
   "mimetype": "text/x-python",
   "name": "python",
   "nbconvert_exporter": "python",
   "pygments_lexer": "ipython3",
   "version": "3.6.4"
  }
 },
 "nbformat": 4,
 "nbformat_minor": 2
}
