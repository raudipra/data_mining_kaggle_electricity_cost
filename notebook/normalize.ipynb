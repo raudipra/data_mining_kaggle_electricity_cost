{
 "cells": [
  {
   "cell_type": "code",
   "execution_count": 1,
   "metadata": {},
   "outputs": [],
   "source": [
    "import pandas as pd\n",
    "import numpy as np\n",
    "from sklearn.preprocessing import MinMaxScaler"
   ]
  },
  {
   "cell_type": "code",
   "execution_count": 2,
   "metadata": {},
   "outputs": [],
   "source": [
    "# Read raw data\n",
    "df = pd.read_csv('../data/all.csv')\n",
    "dataset = []\n",
    "result = []\n",
    "for index, row in df.iterrows():\n",
    "    data = []\n",
    "    base_temp = row['V']\n",
    "    base_humid = row['X']\n",
    "    \n",
    "    # Append the result\n",
    "    result.append(row['B'])\n",
    "    \n",
    "    # Append the features\n",
    "    # Make temp and humidity to delta\n",
    "    data.append(row['C'])\n",
    "    data.append(abs(base_temp-row['D']))\n",
    "    data.append(abs(base_humid-row['E']))\n",
    "    data.append(abs(base_temp-row['F']))\n",
    "    data.append(abs(base_humid-row['G']))\n",
    "    data.append(abs(base_temp-row['H']))\n",
    "    data.append(abs(base_humid-row['I']))\n",
    "    data.append(abs(base_temp-row['J']))\n",
    "    data.append(abs(base_humid-row['K']))\n",
    "    data.append(abs(base_temp-row['L']))\n",
    "    data.append(abs(base_humid-row['M']))\n",
    "    data.append(abs(base_temp-row['N']))\n",
    "    data.append(abs(base_humid-row['O']))\n",
    "    data.append(abs(base_temp-row['P']))\n",
    "    data.append(abs(base_humid-row['Q']))\n",
    "    data.append(abs(base_temp-row['R']))\n",
    "    data.append(abs(base_humid-row['S']))\n",
    "    data.append(abs(base_temp-row['T']))\n",
    "    data.append(abs(base_humid-row['U']))\n",
    "    data.append(row['V'])\n",
    "    data.append(row['W'])\n",
    "    data.append(row['X'])\n",
    "    data.append(row['Y'])\n",
    "    data.append(row['Z'])\n",
    "    data.append(row['AA'])\n",
    "    data.append(row['AB'])\n",
    "    data.append(row['AC'])\n",
    "    \n",
    "    dataset.append(data)"
   ]
  },
  {
   "cell_type": "code",
   "execution_count": 3,
   "metadata": {
    "scrolled": true
   },
   "outputs": [],
   "source": [
    "headers = list(df.columns.values)[1:] # Get the header\n",
    "df_with_delta = pd.DataFrame(dataset, columns=headers[1:])\n",
    "df_with_delta.to_csv('../data/delta_feature_all.csv', sep=',', index=False) # Write to csv"
   ]
  },
  {
   "cell_type": "code",
   "execution_count": 4,
   "metadata": {},
   "outputs": [],
   "source": [
    "features = pd.read_csv('../data/delta_feature_all.csv')\n",
    "AC_col = features['AC'] # Save it before drop to append later\n",
    "features = features.drop(columns=['AC']) # Column AC contains NaN\n",
    "\n",
    "scaler = MinMaxScaler()\n",
    "scaler.fit(features)\n",
    "normalized_features = scaler.transform(features)"
   ]
  },
  {
   "cell_type": "code",
   "execution_count": 5,
   "metadata": {},
   "outputs": [],
   "source": [
    "df_norm_all = pd.DataFrame(normalized_features, columns=headers[1:-1])\n",
    "df_norm_all.insert(0, 'B', result, allow_duplicates=False)\n",
    "df_norm_all.insert(27, 'AC', AC_col, allow_duplicates=False)\n",
    "df_norm_all.to_csv('../data/normalized_delta_all.csv', sep=',', index=False) # Write to csv"
   ]
  },
  {
   "cell_type": "code",
   "execution_count": null,
   "metadata": {},
   "outputs": [],
   "source": []
  },
  {
   "cell_type": "code",
   "execution_count": null,
   "metadata": {},
   "outputs": [],
   "source": []
  },
  {
   "cell_type": "code",
   "execution_count": null,
   "metadata": {},
   "outputs": [],
   "source": []
  }
 ],
 "metadata": {
  "kernelspec": {
   "display_name": "Python 3",
   "language": "python",
   "name": "python3"
  },
  "language_info": {
   "codemirror_mode": {
    "name": "ipython",
    "version": 3
   },
   "file_extension": ".py",
   "mimetype": "text/x-python",
   "name": "python",
   "nbconvert_exporter": "python",
   "pygments_lexer": "ipython3",
   "version": "3.6.4"
  }
 },
 "nbformat": 4,
 "nbformat_minor": 2
}
